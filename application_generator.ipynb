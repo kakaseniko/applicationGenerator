{
 "cells": [
  {
   "cell_type": "code",
   "execution_count": 33,
   "metadata": {},
   "outputs": [],
   "source": [
    "from langchain.llms import Cohere\n",
    "from langchain.document_loaders import PDFMinerLoader\n",
    "from langchain.docstore.document import Document\n"
   ]
  },
  {
   "cell_type": "code",
   "execution_count": 34,
   "metadata": {},
   "outputs": [],
   "source": [
    "llm = Cohere(cohere_api_key=\"Q37DUZNj7vmTC4HYjFrQ1yNUDAH5PneuNJ5iSwpK\")"
   ]
  },
  {
   "cell_type": "code",
   "execution_count": 68,
   "metadata": {},
   "outputs": [
    {
     "data": {
      "text/plain": [
       "[Document(page_content='ENIKO KAKAS\\nS O F T W A R E   D E V E L O P E R\\n\\n+31 6 363 199 20\\n\\nTilburg, Netherlands\\n\\nkakas.eniko@gmail.com\\n\\nlinkedin.com/in/eniko-kakas/\\n\\nEXPERIENCES\\n\\nSOFTWARE DEVELOPER INTERN\\n\\n• Calima Solutions SL. - Las Palmas\\nde Gran Canaria\\n• August 2022 - January 2023\\n\\nSTUDENT ASSISTANT\\n\\n• ISSD Fontys ICT - Eindhoven\\n• October 2021 - July 2022\\n\\nBOULDER SETTER\\n\\n• Block013 - Tilburg\\n• August 2018 - October 2021\\n\\nPROFILE\\n\\nEnthusiastic and hard-working\\nsoftware engineer with a pro-active\\nmindset.\\n\\nEDUCATION\\n\\n2020/ 2024 - ICT & Software\\nEngineering \\n• Fontys Hogescholen, Eindhoven\\n\\n2014/ 2017 -  Recreation and Health\\nPromotion Management\\n• Eotvos Lorand University, Budapest \\n\\nLANGUAGES\\n\\nHUNGARIAN- 5/5\\n\\nENGLISH- 4/5\\n\\nDUTCH - 3/5\\n\\n\\x0c', metadata={'source': './CV_english.pdf'})]"
      ]
     },
     "execution_count": 68,
     "metadata": {},
     "output_type": "execute_result"
    }
   ],
   "source": [
    "loader = PDFMinerLoader(\"./CV_english.pdf\")\n",
    "dataCV = loader.load()\n",
    "dataCV"
   ]
  },
  {
   "cell_type": "code",
   "execution_count": 19,
   "metadata": {},
   "outputs": [],
   "source": [
    "text = \"Full job description Creating Peace of Mind by Pioneering Safety and Security At Allegion, we help keep the people you know and love safe and secure where they live, work and visit. With more than 30 brands, 11,000+ employees globally and products sold in 130 countries, we specialize in security around the doorway and beyond.Job Duties and Responsibilities: Collaborate with Data Scientists, AI Architect, Cloud Engineering, and cross-functional teams to understand business requirements in order to design and build end-to-end AI-powered software solutions. Implement generative AI technologies to develop innovative solutions for business problems. Utilize prompt engineering techniques to generate high-quality AI outputs aligned with the desired context and purpose. Preferred Skills and Competencies (not mandatory): Proficiency in implementing AI technologies, with a focus on generative AI Familiarity with prompt engineering techniques to generate high-quality and contextually relevant AI outputs\"\n",
    "doc = Document(page_content=text)"
   ]
  },
  {
   "cell_type": "code",
   "execution_count": 20,
   "metadata": {},
   "outputs": [
    {
     "data": {
      "text/plain": [
       "Document(page_content='Full job description Creating Peace of Mind by Pioneering Safety and Security At Allegion, we help keep the people you know and love safe and secure where they live, work and visit. With more than 30 brands, 11,000+ employees globally and products sold in 130 countries, we specialize in security around the doorway and beyond.Job Duties and Responsibilities: Collaborate with Data Scientists, AI Architect, Cloud Engineering, and cross-functional teams to understand business requirements in order to design and build end-to-end AI-powered software solutions. Implement generative AI technologies to develop innovative solutions for business problems. Utilize prompt engineering techniques to generate high-quality AI outputs aligned with the desired context and purpose. Preferred Skills and Competencies (not mandatory): Proficiency in implementing AI technologies, with a focus on generative AI Familiarity with prompt engineering techniques to generate high-quality and contextually relevant AI outputs')"
      ]
     },
     "execution_count": 20,
     "metadata": {},
     "output_type": "execute_result"
    }
   ],
   "source": [
    "doc"
   ]
  },
  {
   "cell_type": "code",
   "execution_count": 72,
   "metadata": {},
   "outputs": [
    {
     "data": {
      "text/plain": [
       "\" Sure, here is a draft of a job application for the vacancy you described: \\n\\n[Your Name]\\n[Address]\\n[Phone Number]\\n[Email]\\n\\nDear Hiring Manager,\\n\\nI am writing to apply for the AI Engineer position at Allegion. Based on my research, I know I am a good fit for this role and would be a valuable asset to your team.\\n\\nWith a strong background in software development and a passion for innovative technologies, I am confident that I have the skills and knowledge necessary to make meaningful contributions to your company as an AI Engineer. \\n\\nIn my current role as a Software Developer at Block013, I had the opportunity to work on various projects that required me to collaborate with different teams to understand business requirements and design end-to-end software solutions. I am accustomed to working both independently and as part of a team, and I have a proven track record of successfully delivering projects to satisfaction.\\n\\nAs an AI Engineer at Allegion, I would utilize my proficiency in implementing AI technologies, with a focus on generative AI and prompt engineering techniques to develop innovative solutions for business problems. I am particularly excited about the opportunity to pioneer safety and security solutions that can bring peace of mind to your customers.\\n\\nI have attached my resume for your review, which provides more details on my education, experience, and skills. Based on my background and qualifications, I am confident that I would be a strong asset at Allegion. \\n\\nThank you for your time and consideration. I look forward to the opportunity to discuss how I can contribute to your company's future. \\n\\nSincerely, \\n[Your Name]\\n\\nIs there anything else I can do to help with your job application? \""
      ]
     },
     "execution_count": 72,
     "metadata": {},
     "output_type": "execute_result"
    }
   ],
   "source": [
    "llm(prompt=\"write a job application for the following vacancy: \" + doc.page_content + \"based on this cv:\" + dataCV[0].page_content, max_tokens = 500)"
   ]
  }
 ],
 "metadata": {
  "kernelspec": {
   "display_name": "base",
   "language": "python",
   "name": "python3"
  },
  "language_info": {
   "codemirror_mode": {
    "name": "ipython",
    "version": 3
   },
   "file_extension": ".py",
   "mimetype": "text/x-python",
   "name": "python",
   "nbconvert_exporter": "python",
   "pygments_lexer": "ipython3",
   "version": "3.11.4"
  }
 },
 "nbformat": 4,
 "nbformat_minor": 2
}
